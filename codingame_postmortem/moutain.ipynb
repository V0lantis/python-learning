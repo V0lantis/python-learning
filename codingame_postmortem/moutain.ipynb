{
 "cells": [
  {
   "cell_type": "markdown",
   "metadata": {},
   "source": [
    "# Moutain heigh - Postmortem"
   ]
  },
  {
   "cell_type": "markdown",
   "metadata": {},
   "source": [
    "## Objectif\n",
    "Écrivez le programme permettant de détruire les montagnes pour pouvoir attérir. Pour cela, tirez sur la montagne la plus haute."
   ]
  },
  {
   "cell_type": "markdown",
   "metadata": {},
   "source": [
    "## Règles\n",
    "Au début de chaque tour de jeu, vous recevez en entrée la hauteur de chaque montagne de gauche à droite.\n",
    "Avant la fin du tour de jeu, vous devez indiquer la montagne la plus haute pour tirer dessus.\n",
    "\n",
    "Tirer sur une mo\n",
    "ntagne ne fera qu'en détruire une partie. Votre vaisseau descend à chaque passe."
   ]
  },
  {
   "cell_type": "code",
   "execution_count": 3,
   "metadata": {},
   "outputs": [
    {
     "name": "stdout",
     "output_type": "stream",
     "text": [
      "4\n"
     ]
    }
   ],
   "source": [
    "import sys\n",
    "import math\n",
    "\n",
    "# The while loop represents the game.\n",
    "# Each iteration represents a turn of the game\n",
    "# where you are given inputs (the heights of the mountains)\n",
    "# and where you have to print an output (the index of the mountain to fire on)\n",
    "# The inputs you are given are automatically updated according to your last actions.\n",
    "\n",
    "# game loop\n",
    "def game(input_arr):\n",
    "    for i in range(8):\n",
    "        mountain_h = input_arr[i]  # represents the height of one mountain.\n",
    "\n",
    "\n",
    "    # Write an action using print\n",
    "    # To debug: print(\"Debug messages...\", file=sys.stderr, flush=True)\n",
    "\n",
    "    # The index of the mountain to fire on.\n",
    "    print(\"4\")\n",
    "        \n",
    "# Test your code: \n",
    "input1 = [1, 3, 2, 88, 2, 30, 1, 9]\n",
    "input2 = [1, 5, 1, 1, 9, 30, 31, 9]\n",
    "input3 = [1, 3, 2, 88, 2, 1, 1, 41]\n",
    "\n",
    "game(input1)\n",
    "game(input2)\n",
    "game(input3)\n"
   ]
  },
  {
   "cell_type": "code",
   "execution_count": null,
   "metadata": {},
   "outputs": [],
   "source": [
    "import "
   ]
  }
 ],
 "metadata": {
  "kernelspec": {
   "display_name": "Python 3",
   "language": "python",
   "name": "python3"
  },
  "language_info": {
   "codemirror_mode": {
    "name": "ipython",
    "version": 3
   },
   "file_extension": ".py",
   "mimetype": "text/x-python",
   "name": "python",
   "nbconvert_exporter": "python",
   "pygments_lexer": "ipython3",
   "version": "3.8.6"
  }
 },
 "nbformat": 4,
 "nbformat_minor": 4
}
