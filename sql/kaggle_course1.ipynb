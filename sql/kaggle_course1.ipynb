{
 "cells": [
  {
   "cell_type": "markdown",
   "metadata": {},
   "source": [
    "# Getting Started With SQL and BigQuery\n",
    "**[Kaggle sql course](https://www.kaggle.com/dansbecker/getting-started-with-sql-and-bigquery)**"
   ]
  },
  {
   "cell_type": "code",
   "execution_count": 1,
   "metadata": {},
   "outputs": [],
   "source": [
    "from kaggle_course1 import *"
   ]
  },
  {
   "cell_type": "markdown",
   "metadata": {},
   "source": [
    "## Introduction\n",
    "create a client object"
   ]
  },
  {
   "cell_type": "code",
   "execution_count": 2,
   "metadata": {},
   "outputs": [],
   "source": [
    "# Insert you code here\n"
   ]
  },
  {
   "cell_type": "code",
   "execution_count": 3,
   "metadata": {},
   "outputs": [],
   "source": [
    "# q1_answer()"
   ]
  },
  {
   "cell_type": "markdown",
   "metadata": {},
   "source": [
    "- We begin by constructing a reference to the dataset with some method. \n",
    "- Next, we use a method, along with the reference we just constructed, to fetch the dataset."
   ]
  },
  {
   "cell_type": "code",
   "execution_count": 4,
   "metadata": {},
   "outputs": [
    {
     "name": "stdout",
     "output_type": "stream",
     "text": [
      "correct\n"
     ]
    }
   ],
   "source": [
    "# Construct a reference to the \"hacker_news\" dataset\n",
    "\n",
    "# API request - fetch the dataset\n",
    "q2_check(dataset_ref, dataset)"
   ]
  },
  {
   "cell_type": "code",
   "execution_count": 5,
   "metadata": {},
   "outputs": [],
   "source": [
    "# q2_hint()\n",
    "# q2_answer()"
   ]
  },
  {
   "cell_type": "markdown",
   "metadata": {},
   "source": [
    "Use a certain method to list the tables in the dataset"
   ]
  },
  {
   "cell_type": "code",
   "execution_count": 6,
   "metadata": {},
   "outputs": [
    {
     "name": "stdout",
     "output_type": "stream",
     "text": [
      "comments\n",
      "full\n",
      "full_201510\n",
      "stories\n"
     ]
    }
   ],
   "source": [
    "# List all the tables in the \"hacker_news\" dataset\n",
    "\n",
    "# Print names of all tables in the dataset (there are four!)"
   ]
  },
  {
   "cell_type": "code",
   "execution_count": 7,
   "metadata": {},
   "outputs": [],
   "source": [
    "# q3_hint()\n",
    "# q3_answer()"
   ]
  },
  {
   "cell_type": "markdown",
   "metadata": {},
   "source": [
    "Similar to how we fetched a dataset, we can fetch a table. In the code cell below, we fetch the `full` table in the `hacker_news` dataset"
   ]
  },
  {
   "cell_type": "code",
   "execution_count": 8,
   "metadata": {},
   "outputs": [],
   "source": [
    "# Construct a reference to the \"full\" table\n",
    "\n",
    "# API request - fetch the table"
   ]
  },
  {
   "cell_type": "code",
   "execution_count": 9,
   "metadata": {},
   "outputs": [],
   "source": [
    "# q4_hint()\n",
    "# q4_answer()"
   ]
  },
  {
   "cell_type": "markdown",
   "metadata": {},
   "source": [
    "## Table Schema\n",
    "In this example, we'll investigate the `full` table that we fetched above."
   ]
  },
  {
   "cell_type": "code",
   "execution_count": 10,
   "metadata": {},
   "outputs": [
    {
     "name": "stdout",
     "output_type": "stream",
     "text": [
      "[SchemaField('title', 'STRING', 'NULLABLE', 'Story title', (), None), SchemaField('url', 'STRING', 'NULLABLE', 'Story url', (), None), SchemaField('text', 'STRING', 'NULLABLE', 'Story or comment text', (), None), SchemaField('dead', 'BOOLEAN', 'NULLABLE', 'Is dead?', (), None), SchemaField('by', 'STRING', 'NULLABLE', \"The username of the item's author.\", (), None), SchemaField('score', 'INTEGER', 'NULLABLE', 'Story score', (), None), SchemaField('time', 'INTEGER', 'NULLABLE', 'Unix time', (), None), SchemaField('timestamp', 'TIMESTAMP', 'NULLABLE', 'Timestamp for the unix time', (), None), SchemaField('type', 'STRING', 'NULLABLE', 'Type of details (comment, comment_ranking, poll, story, job, pollopt)', (), None), SchemaField('id', 'INTEGER', 'NULLABLE', \"The item's unique id.\", (), None), SchemaField('parent', 'INTEGER', 'NULLABLE', 'Parent comment ID', (), None), SchemaField('descendants', 'INTEGER', 'NULLABLE', 'Number of story or poll descendants', (), None), SchemaField('ranking', 'INTEGER', 'NULLABLE', 'Comment ranking', (), None), SchemaField('deleted', 'BOOLEAN', 'NULLABLE', 'Is deleted?', (), None)]\n"
     ]
    }
   ],
   "source": [
    "# Print information on all the columns in the \"full\" table in the \"hacker_news\" dataset"
   ]
  },
  {
   "cell_type": "markdown",
   "metadata": {},
   "source": [
    "Each [`SchemaField`](https://googleapis.github.io/google-cloud-python/latest/bigquery/generated/google.cloud.bigquery.schema.SchemaField.html#google.cloud.bigquery.schema.SchemaField) tells us about a specific column (which we also refer to as a **field**). In order, the information is:\n",
    "\n",
    "* The **name** of the column\n",
    "* The **field type** (or datatype) in the column\n",
    "* The **mode** of the column (`'NULLABLE'` means that a column allows NULL values, and is the default)\n",
    "* A **description** of the data in that column\n",
    "\n",
    "The first field has the SchemaField:\n",
    "\n",
    "`SchemaField('by', 'string', 'NULLABLE', \"The username of the item's author.\",())`\n",
    "\n",
    "This tells us:\n",
    "- the field (or column) is called `by`,\n",
    "- the data in this field is strings, \n",
    "- NULL values are allowed, and\n",
    "- it contains the usernames corresponding to each item's author.\n",
    "\n",
    "We can use the [`list_rows()`](https://google-cloud.readthedocs.io/en/latest/bigquery/generated/google.cloud.bigquery.client.Client.list_rows.html#google.cloud.bigquery.client.Client.list_rows) method to check just the first five lines of of the `full` table to make sure this is right. (Sometimes databases have outdated descriptions, so it's good to check.)  This returns a BigQuery [`RowIterator`](https://googleapis.github.io/google-cloud-python/latest/bigquery/generated/google.cloud.bigquery.table.RowIterator.html) object that can quickly be converted to a pandas DataFrame with the [`to_dataframe()`](https://google-cloud.readthedocs.io/en/latest/bigquery/generated/google.cloud.bigquery.table.RowIterator.to_dataframe.html) method."
   ]
  },
  {
   "cell_type": "code",
   "execution_count": 11,
   "metadata": {},
   "outputs": [
    {
     "name": "stderr",
     "output_type": "stream",
     "text": [
      "<ipython-input-11-d21696d05022>:2: UserWarning: Cannot use bqstorage_client if max_results is set, reverting to fetching data with the tabledata.list endpoint.\n",
      "  client.list_rows(table, max_results=5).to_dataframe()\n"
     ]
    },
    {
     "data": {
      "text/html": [
       "<div>\n",
       "<style scoped>\n",
       "    .dataframe tbody tr th:only-of-type {\n",
       "        vertical-align: middle;\n",
       "    }\n",
       "\n",
       "    .dataframe tbody tr th {\n",
       "        vertical-align: top;\n",
       "    }\n",
       "\n",
       "    .dataframe thead th {\n",
       "        text-align: right;\n",
       "    }\n",
       "</style>\n",
       "<table border=\"1\" class=\"dataframe\">\n",
       "  <thead>\n",
       "    <tr style=\"text-align: right;\">\n",
       "      <th></th>\n",
       "      <th>title</th>\n",
       "      <th>url</th>\n",
       "      <th>text</th>\n",
       "      <th>dead</th>\n",
       "      <th>by</th>\n",
       "      <th>score</th>\n",
       "      <th>time</th>\n",
       "      <th>timestamp</th>\n",
       "      <th>type</th>\n",
       "      <th>id</th>\n",
       "      <th>parent</th>\n",
       "      <th>descendants</th>\n",
       "      <th>ranking</th>\n",
       "      <th>deleted</th>\n",
       "    </tr>\n",
       "  </thead>\n",
       "  <tbody>\n",
       "    <tr>\n",
       "      <th>0</th>\n",
       "      <td>None</td>\n",
       "      <td>None</td>\n",
       "      <td>\"The local government halted Wu's plan to fly ...</td>\n",
       "      <td>None</td>\n",
       "      <td>kaybe</td>\n",
       "      <td>NaN</td>\n",
       "      <td>1369694561</td>\n",
       "      <td>2013-05-27 22:42:41+00:00</td>\n",
       "      <td>comment</td>\n",
       "      <td>5777002</td>\n",
       "      <td>5773410.0</td>\n",
       "      <td>NaN</td>\n",
       "      <td>NaN</td>\n",
       "      <td>None</td>\n",
       "    </tr>\n",
       "    <tr>\n",
       "      <th>1</th>\n",
       "      <td>Christine Magee, Co-Founder Sleep Country Cana...</td>\n",
       "      <td>http://www.cbc.ca/dragonsden/blog/sleep-countr...</td>\n",
       "      <td>None</td>\n",
       "      <td>None</td>\n",
       "      <td>neom</td>\n",
       "      <td>1.0</td>\n",
       "      <td>1516024758</td>\n",
       "      <td>2018-01-15 13:59:18+00:00</td>\n",
       "      <td>story</td>\n",
       "      <td>16150496</td>\n",
       "      <td>NaN</td>\n",
       "      <td>0.0</td>\n",
       "      <td>NaN</td>\n",
       "      <td>None</td>\n",
       "    </tr>\n",
       "    <tr>\n",
       "      <th>2</th>\n",
       "      <td>Ask HN: How are you creatively helping the Cov...</td>\n",
       "      <td>None</td>\n",
       "      <td>I’m a programmer in California, and I’m lookin...</td>\n",
       "      <td>None</td>\n",
       "      <td>meg_m</td>\n",
       "      <td>5.0</td>\n",
       "      <td>1586203717</td>\n",
       "      <td>2020-04-06 20:08:37+00:00</td>\n",
       "      <td>story</td>\n",
       "      <td>22797252</td>\n",
       "      <td>NaN</td>\n",
       "      <td>2.0</td>\n",
       "      <td>NaN</td>\n",
       "      <td>None</td>\n",
       "    </tr>\n",
       "    <tr>\n",
       "      <th>3</th>\n",
       "      <td>None</td>\n",
       "      <td>None</td>\n",
       "      <td>the point of a framework is speedy development...</td>\n",
       "      <td>None</td>\n",
       "      <td>snicker</td>\n",
       "      <td>NaN</td>\n",
       "      <td>1395157701</td>\n",
       "      <td>2014-03-18 15:48:21+00:00</td>\n",
       "      <td>comment</td>\n",
       "      <td>7422609</td>\n",
       "      <td>7422533.0</td>\n",
       "      <td>NaN</td>\n",
       "      <td>NaN</td>\n",
       "      <td>None</td>\n",
       "    </tr>\n",
       "    <tr>\n",
       "      <th>4</th>\n",
       "      <td>None</td>\n",
       "      <td>None</td>\n",
       "      <td>I don&amp;#x27;t think it&amp;#x27;s fair for Apple to...</td>\n",
       "      <td>None</td>\n",
       "      <td>ooqr</td>\n",
       "      <td>NaN</td>\n",
       "      <td>1482263675</td>\n",
       "      <td>2016-12-20 19:54:35+00:00</td>\n",
       "      <td>comment</td>\n",
       "      <td>13223353</td>\n",
       "      <td>13222947.0</td>\n",
       "      <td>NaN</td>\n",
       "      <td>NaN</td>\n",
       "      <td>None</td>\n",
       "    </tr>\n",
       "  </tbody>\n",
       "</table>\n",
       "</div>"
      ],
      "text/plain": [
       "                                               title  \\\n",
       "0                                               None   \n",
       "1  Christine Magee, Co-Founder Sleep Country Cana...   \n",
       "2  Ask HN: How are you creatively helping the Cov...   \n",
       "3                                               None   \n",
       "4                                               None   \n",
       "\n",
       "                                                 url  \\\n",
       "0                                               None   \n",
       "1  http://www.cbc.ca/dragonsden/blog/sleep-countr...   \n",
       "2                                               None   \n",
       "3                                               None   \n",
       "4                                               None   \n",
       "\n",
       "                                                text  dead       by  score  \\\n",
       "0  \"The local government halted Wu's plan to fly ...  None    kaybe    NaN   \n",
       "1                                               None  None     neom    1.0   \n",
       "2  I’m a programmer in California, and I’m lookin...  None    meg_m    5.0   \n",
       "3  the point of a framework is speedy development...  None  snicker    NaN   \n",
       "4  I don&#x27;t think it&#x27;s fair for Apple to...  None     ooqr    NaN   \n",
       "\n",
       "         time                 timestamp     type        id      parent  \\\n",
       "0  1369694561 2013-05-27 22:42:41+00:00  comment   5777002   5773410.0   \n",
       "1  1516024758 2018-01-15 13:59:18+00:00    story  16150496         NaN   \n",
       "2  1586203717 2020-04-06 20:08:37+00:00    story  22797252         NaN   \n",
       "3  1395157701 2014-03-18 15:48:21+00:00  comment   7422609   7422533.0   \n",
       "4  1482263675 2016-12-20 19:54:35+00:00  comment  13223353  13222947.0   \n",
       "\n",
       "   descendants  ranking deleted  \n",
       "0          NaN      NaN    None  \n",
       "1          0.0      NaN    None  \n",
       "2          2.0      NaN    None  \n",
       "3          NaN      NaN    None  \n",
       "4          NaN      NaN    None  "
      ]
     },
     "execution_count": 11,
     "metadata": {},
     "output_type": "execute_result"
    }
   ],
   "source": [
    "# Preview the first five lines of the \"full\" table"
   ]
  },
  {
   "cell_type": "code",
   "execution_count": 14,
   "metadata": {
    "scrolled": true
   },
   "outputs": [
    {
     "name": "stdout",
     "output_type": "stream",
     "text": [
      "\n",
      "answer:\n",
      "client.list_rows(table, max_results=5).to_dataframe()\n",
      "\n"
     ]
    }
   ],
   "source": [
    "# q5_answer()"
   ]
  },
  {
   "cell_type": "markdown",
   "metadata": {},
   "source": [
    "The `list_rows()` method will also let us look at just the information in a specific column. If we want to see the first five entries in the `by` column, for example, we can do that!"
   ]
  },
  {
   "cell_type": "code",
   "execution_count": 16,
   "metadata": {},
   "outputs": [
    {
     "name": "stderr",
     "output_type": "stream",
     "text": [
      "<ipython-input-16-e2873c833eef>:1: UserWarning: Cannot use bqstorage_client if max_results is set, reverting to fetching data with the tabledata.list endpoint.\n",
      "  client.list_rows(table, selected_fields=table.schema[:1], max_results=5).to_dataframe()\n"
     ]
    },
    {
     "data": {
      "text/html": [
       "<div>\n",
       "<style scoped>\n",
       "    .dataframe tbody tr th:only-of-type {\n",
       "        vertical-align: middle;\n",
       "    }\n",
       "\n",
       "    .dataframe tbody tr th {\n",
       "        vertical-align: top;\n",
       "    }\n",
       "\n",
       "    .dataframe thead th {\n",
       "        text-align: right;\n",
       "    }\n",
       "</style>\n",
       "<table border=\"1\" class=\"dataframe\">\n",
       "  <thead>\n",
       "    <tr style=\"text-align: right;\">\n",
       "      <th></th>\n",
       "      <th>title</th>\n",
       "    </tr>\n",
       "  </thead>\n",
       "  <tbody>\n",
       "    <tr>\n",
       "      <th>0</th>\n",
       "      <td>None</td>\n",
       "    </tr>\n",
       "    <tr>\n",
       "      <th>1</th>\n",
       "      <td>Christine Magee, Co-Founder Sleep Country Cana...</td>\n",
       "    </tr>\n",
       "    <tr>\n",
       "      <th>2</th>\n",
       "      <td>Ask HN: How are you creatively helping the Cov...</td>\n",
       "    </tr>\n",
       "    <tr>\n",
       "      <th>3</th>\n",
       "      <td>None</td>\n",
       "    </tr>\n",
       "    <tr>\n",
       "      <th>4</th>\n",
       "      <td>None</td>\n",
       "    </tr>\n",
       "  </tbody>\n",
       "</table>\n",
       "</div>"
      ],
      "text/plain": [
       "                                               title\n",
       "0                                               None\n",
       "1  Christine Magee, Co-Founder Sleep Country Cana...\n",
       "2  Ask HN: How are you creatively helping the Cov...\n",
       "3                                               None\n",
       "4                                               None"
      ]
     },
     "execution_count": 16,
     "metadata": {},
     "output_type": "execute_result"
    }
   ],
   "source": [
    "# Preview the first five entries in the \"by\" column of the \"full\" table"
   ]
  },
  {
   "cell_type": "code",
   "execution_count": null,
   "metadata": {},
   "outputs": [],
   "source": [
    "# q6_answer"
   ]
  }
 ],
 "metadata": {
  "kernelspec": {
   "display_name": "Python 3",
   "language": "python",
   "name": "python3"
  },
  "language_info": {
   "codemirror_mode": {
    "name": "ipython",
    "version": 3
   },
   "file_extension": ".py",
   "mimetype": "text/x-python",
   "name": "python",
   "nbconvert_exporter": "python",
   "pygments_lexer": "ipython3",
   "version": "3.8.6"
  }
 },
 "nbformat": 4,
 "nbformat_minor": 4
}
