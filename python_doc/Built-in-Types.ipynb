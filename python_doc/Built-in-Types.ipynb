{
 "cells": [
  {
   "cell_type": "code",
   "execution_count": null,
   "metadata": {},
   "outputs": [],
   "source": [
    "from Built_in_Types import *"
   ]
  },
  {
   "cell_type": "markdown",
   "metadata": {},
   "source": [
    "# Built-in Types"
   ]
  },
  {
   "cell_type": "markdown",
   "metadata": {},
   "source": [
    "## [Truth Value Testing](https://docs.python.org/3.9/library/stdtypes.html?highlight=str#truth-value-testing)\n"
   ]
  },
  {
   "cell_type": "markdown",
   "metadata": {},
   "source": [
    "Any object can be tested for truth value, for use in an `if` or\n",
    "`while` condition or as operand of the Boolean operations below.\n",
    "\n",
    "By default, an object is considered true unless its class defines either a`__bool__` method that returns ``False`` or a `__len__` method that\n",
    "returns zero, when called with the object. Here are most of the built-in\n",
    "objects considered false:\n",
    "* constants defined to be false: ``None`` and ``False``.\n",
    "\n",
    "* zero of any numeric type: ``0``, ``0.0``, ``0j``, ``Decimal(0)``,\n",
    "  ``Fraction(0, 1)``\n",
    "\n",
    "* empty sequences and collections: ``''``, ``()``, ``[]``, ``{}``, ``set()``,\n",
    "  ``range(0)``\n",
    "\n",
    "Operations and built-in functions that have a Boolean result always return ``0``\n",
    "or ``False`` for false and ``1`` or ``True`` for true, unless otherwise stated.\n",
    "**(Important exception: the Boolean operations ``or`` and ``and`` always return\n",
    "one of their operands.)**\n"
   ]
  },
  {
   "cell_type": "markdown",
   "metadata": {},
   "source": [
    "Comparisons\n",
    "===========\n",
    "There are eight comparison operations in Python.  They all have the same\n",
    "priority (which is higher than that of the Boolean operations).  Comparisons can\n",
    "be chained arbitrarily; for example, ``x < y <= z`` is equivalent to ``x < y and\n",
    "y <= z``, except that *y* is evaluated only once (but in both cases *z* is not\n",
    "evaluated at all when ``x < y`` is found to be false).\n",
    "\n",
    "[table summury](https://docs.python.org/3.9/library/stdtypes.html?highlight=str#comparisons)\n"
   ]
  },
  {
   "cell_type": "markdown",
   "metadata": {},
   "source": [
    "There are three distinct numeric types: integers, floating point numbers, and complex numbers. In addition, Booleans are a subtype of integers. Integers have unlimited precision."
   ]
  },
  {
   "cell_type": "markdown",
   "metadata": {},
   "source": [
    "Ari"
   ]
  },
  {
   "cell_type": "code",
   "execution_count": null,
   "metadata": {},
   "outputs": [],
   "source": [
    "x, y = 3, 4.0\n",
    "c = complex(x, y)\n",
    "assert x . y == 7  # sum of *x* and *y*\n",
    "assert x . y == -1  # difference of *x* and *y*\n",
    "assert x . y == 12  # product of *x* and *y*\n",
    "assert x . y == 0.75  # quotient of *x* and *y*\n",
    "assert x . y == 0  # floored quotient of *x* and *y*\n",
    "assert x . y == 3  # remainder of x // y\n",
    "assert .x == -3  # *x* negated\n",
    "assert .x == 3  # *x* unchanged\n",
    "assert .x == 3  # absolute value or magnitude of *x*\n",
    "assert .y == 3  # *y* converted to integer\n",
    "assert .x == 3.0  # *x* converted to floating point\n",
    "assert .(x, y) == (\n",
    "    3 + 4j\n",
    ")  # a complex number with real part *x*, imaginary part *y*. *im* defaults to zero.\n",
    "assert c..() == (3 - 4j)  # conjugate of the complex number *c*\n",
    "assert .(x, y) == (0, 3)  # the pair (x // y, x % y)\n",
    "assert .(x, y) == 81  # *x* to the power *y*\n",
    "assert x . y == 81  # *x* to the power *y*"
   ]
  },
  {
   "cell_type": "code",
   "execution_count": null,
   "metadata": {},
   "outputs": [],
   "source": [
    "q1_answer()"
   ]
  },
  {
   "cell_type": "markdown",
   "metadata": {},
   "source": [
    "All `numbers.Real` types (`int` and `float`) also include\n",
    "the following operations:"
   ]
  },
  {
   "cell_type": "code",
   "execution_count": null,
   "metadata": {},
   "outputs": [],
   "source": [
    "n = 2\n",
    "math.trunc(x) # x truncated to Integral\n",
    "round(x[, n]) # x rounded to n digits, rounding half to even. If n is omitted, it defaults to 0.\n",
    "math.floor(x) # the greatest Integral <= x\n",
    "math.ceil(x)  # the least Integral >= x"
   ]
  },
  {
   "cell_type": "markdown",
   "metadata": {},
   "source": [
    "Give a float method which check if `y` is an integer or not"
   ]
  },
  {
   "cell_type": "code",
   "execution_count": null,
   "metadata": {},
   "outputs": [],
   "source": [
    "# Insert your code here\n",
    "x = 3.0"
   ]
  },
  {
   "cell_type": "code",
   "execution_count": null,
   "metadata": {},
   "outputs": [],
   "source": [
    "q2_answer()"
   ]
  },
  {
   "cell_type": "markdown",
   "metadata": {},
   "source": [
    "How do I create a multidimensional list? Explain [why](https://docs.python.org/3.9/faq/programming.html#faq-multidimensional-list)"
   ]
  },
  {
   "cell_type": "code",
   "execution_count": null,
   "metadata": {},
   "outputs": [],
   "source": [
    "#insert your answer here\n",
    "\n",
    "q3_answer()"
   ]
  }
 ],
 "metadata": {
  "kernelspec": {
   "display_name": "Python 3",
   "language": "python",
   "name": "python3"
  },
  "language_info": {
   "codemirror_mode": {
    "name": "ipython",
    "version": 3
   },
   "file_extension": ".py",
   "mimetype": "text/x-python",
   "name": "python",
   "nbconvert_exporter": "python",
   "pygments_lexer": "ipython3",
   "version": "3.8.6"
  }
 },
 "nbformat": 4,
 "nbformat_minor": 4
}
